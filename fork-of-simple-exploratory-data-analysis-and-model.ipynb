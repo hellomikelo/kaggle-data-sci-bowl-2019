{
 "cells": [
  {
   "cell_type": "code",
   "execution_count": null,
   "metadata": {
    "_cell_guid": "b1076dfc-b9ad-4769-8c92-a6c4dae69d19",
    "_uuid": "8f2839f25d086af736a60e9eeb907d3b93b6e0e5"
   },
   "outputs": [],
   "source": [
    "# This Python 3 environment comes with many helpful analytics libraries installed\n",
    "# It is defined by the kaggle/python docker image: https://github.com/kaggle/docker-python\n",
    "# For example, here's several helpful packages to load in \n",
    "\n",
    "import numpy as np # linear algebra\n",
    "import pandas as pd # data processing, CSV file I/O (e.g. pd.read_csv)\n",
    "\n",
    "# Input data files are available in the \"../input/\" directory.\n",
    "# For example, running this (by clicking run or pressing Shift+Enter) will list all files under the input directory\n",
    "\n",
    "import os\n",
    "for dirname, _, filenames in os.walk('/kaggle/input'):\n",
    "    for filename in filenames:\n",
    "        print(os.path.join(dirname, filename))\n",
    "\n",
    "# Any results you write to the current directory are saved as output.\n",
    "import os\n",
    "import seaborn as sns\n",
    "import matplotlib.pyplot as plt\n",
    "import matplotlib.patches as patches\n",
    "from plotly import tools, subplots\n",
    "import plotly.offline as py\n",
    "py.init_notebook_mode(connected = True)\n",
    "import plotly.graph_objs as go\n",
    "import plotly.express as px\n",
    "pd.set_option('max_columns', 1000)\n",
    "from bokeh.models import Panel, Tabs\n",
    "from bokeh.io import output_notebook, show\n",
    "from bokeh.plotting import figure\n",
    "import lightgbm as lgb\n",
    "import plotly.figure_factory as ff\n",
    "import gc\n",
    "from sklearn.model_selection import KFold\n",
    "from sklearn.preprocessing import LabelEncoder"
   ]
  },
  {
   "cell_type": "markdown",
   "metadata": {
    "_cell_guid": "79c7e3d0-c299-4dcb-8224-4455121ee9b0",
    "_uuid": "d629ff2d2480ee46fbb7e2d37f6b5fab8052498a",
    "collapsed": true
   },
   "source": [
    "# Target Variable\n",
    "\n",
    "The outcomes in this competition are grouped into 4 groups (labeled accuracy_group in the data):\n",
    "\n",
    "* 3: the assessment was solved on the first attempt\n",
    "* 2: the assessment was solved on the second attempt\n",
    "* 1: the assessment was solved after 3 or more attempts\n",
    "* 0: the assessment was never solved\n",
    "\n",
    "We have a multiclass problem. Let's check the main files"
   ]
  },
  {
   "cell_type": "markdown",
   "metadata": {},
   "source": [
    "# Files\n",
    "\n",
    "# Train and test\n",
    "\n",
    "These are the main data files which contain the gameplay events.\n",
    "\n",
    "* event_id - Randomly generated unique identifier for the event type. Maps to event_id column in specs table.\n",
    "* game_session - Randomly generated unique identifier grouping events within a single game or video play session.\n",
    "* timestamp - Client-generated datetime\n",
    "* event_data - Semi-structured JSON formatted string containing the events parameters. Default fields are: event_count, event_code, and game_time; otherwise fields are determined by the event type.\n",
    "* installation_id - Randomly generated unique identifier grouping game sessions within a single installed application instance.\n",
    "* event_count - Incremental counter of events within a game session (offset at 1). Extracted from event_data.\n",
    "* event_code - Identifier of the event 'class'. Unique per game, but may be duplicated across games. E.g. event code '2000' always identifies the 'Start Game' event for all games. Extracted from event_data.\n",
    "* game_time - Time in milliseconds since the start of the game session. Extracted from event_data.\n",
    "* title - Title of the game or video.\n",
    "* type - Media type of the game or video. Possible values are: 'Game', 'Assessment', 'Activity', 'Clip'.\n",
    "* world - The section of the application the game or video belongs to. Helpful to identify the educational curriculum goals of the media. Possible values are: 'NONE' (at the app's start screen), TREETOPCITY' (Length/Height), 'MAGMAPEAK' (Capacity/Displacement), 'CRYSTALCAVES' (Weight).\n",
    "\n",
    "# Specs\n",
    "\n",
    "This file gives the specification of the various event types.\n",
    "\n",
    "* event_id - Global unique identifier for the event type. Joins to event_id column in events table.\n",
    "* info - Description of the event.\n",
    "* args - JSON formatted string of event arguments. Each argument contains:\n",
    "* name - Argument name.\n",
    "* type - Type of the argument (string, int, number, object, array).\n",
    "* info - Description of the argument.\n",
    "\n",
    "\n",
    "# Train_labels\n",
    "* This file demonstrates how to compute the ground truth for the assessments in the training set.\n",
    "\n",
    "# Sample_submission\n",
    "* A sample submission in the correct format.\n",
    "\n",
    "So we have 2 files that have a lot of information that can be helpfull for predicting accuracy_group. Let's start with the train and test files."
   ]
  },
  {
   "cell_type": "markdown",
   "metadata": {},
   "source": [
    "# Reading Files"
   ]
  },
  {
   "cell_type": "code",
   "execution_count": null,
   "metadata": {},
   "outputs": [],
   "source": [
    "%%time\n",
    "print('Reading train.csv file....')\n",
    "train = pd.read_csv('/kaggle/input/data-science-bowl-2019/train.csv')\n",
    "print('Training.csv file have {} rows and {} columns'.format(train.shape[0], train.shape[1]))\n",
    "\n",
    "print('Reading test.csv file....')\n",
    "test = pd.read_csv('/kaggle/input/data-science-bowl-2019/test.csv')\n",
    "print('Test.csv file have {} rows and {} columns'.format(test.shape[0], test.shape[1]))\n",
    "\n",
    "print('Reading train_labels.csv file....')\n",
    "train_labels = pd.read_csv('/kaggle/input/data-science-bowl-2019/train_labels.csv')\n",
    "print('Train_labels.csv file have {} rows and {} columns'.format(train_labels.shape[0], train_labels.shape[1]))\n",
    "\n",
    "print('Reading specs.csv file....')\n",
    "specs = pd.read_csv('/kaggle/input/data-science-bowl-2019/specs.csv')\n",
    "print('Specs.csv file have {} rows and {} columns'.format(specs.shape[0], specs.shape[1]))\n",
    "\n",
    "print('Reading sample_submission.csv file....')\n",
    "sample_submission = pd.read_csv('/kaggle/input/data-science-bowl-2019/sample_submission.csv')\n",
    "print('Sample_submission.csv file have {} rows and {} columns'.format(sample_submission.shape[0], sample_submission.shape[1]))"
   ]
  },
  {
   "cell_type": "markdown",
   "metadata": {},
   "source": [
    "Wow the dataset is huge, for exploration purpose let's extract a random sample"
   ]
  },
  {
   "cell_type": "markdown",
   "metadata": {},
   "source": [
    "# Train and Test exploration"
   ]
  },
  {
   "cell_type": "code",
   "execution_count": null,
   "metadata": {},
   "outputs": [],
   "source": [
    "train_sample = train.sample(1000000)\n",
    "train_sample.head()"
   ]
  },
  {
   "cell_type": "markdown",
   "metadata": {},
   "source": [
    "* The first thing i notice is that we have 17k labels for 11M data points (train data). For the model we should aggregate by installation id and get agg stats.\n",
    "* It's going to be very important to engineer good features for the agg stats part."
   ]
  },
  {
   "cell_type": "code",
   "execution_count": null,
   "metadata": {},
   "outputs": [],
   "source": [
    "train_labels.head()"
   ]
  },
  {
   "cell_type": "markdown",
   "metadata": {},
   "source": [
    "Let's explore the distribution of our target variable"
   ]
  },
  {
   "cell_type": "code",
   "execution_count": null,
   "metadata": {},
   "outputs": [],
   "source": [
    "cnt_srs = train_labels['accuracy_group'].value_counts(normalize = True).sort_index()\n",
    "cnt_srs.index = ['Never Solved', '3 or More Attempts', 'Second Attempt', 'First Attempt']\n",
    "trace = go.Bar(\n",
    "    x = cnt_srs.index,\n",
    "    y = cnt_srs.values,\n",
    "    marker = dict(\n",
    "        color = '#1E90FF',\n",
    "    ),\n",
    ")\n",
    "\n",
    "layout = go.Layout(\n",
    "    title = go.layout.Title(\n",
    "        text = 'Distribution of Accuracy Group',\n",
    "        x = 0.5\n",
    "    ),\n",
    "    font = dict(size = 14),\n",
    "    width = 800,\n",
    "    height = 500,\n",
    ")\n",
    "\n",
    "data = [trace]\n",
    "fig = go.Figure(data = data, layout = layout)\n",
    "py.iplot(fig, filename = 'accuracy_group')"
   ]
  },
  {
   "cell_type": "markdown",
   "metadata": {},
   "source": [
    "* The two most common classes are fist attempt and never solved.\n",
    "* The majority class have a 50% of the observations\n",
    "* The columns num_correct, num_incorrect and accuracy are used to calculate the accuracy_group columns. "
   ]
  },
  {
   "cell_type": "code",
   "execution_count": null,
   "metadata": {},
   "outputs": [],
   "source": [
    "def bar_plot(df, column, title, width, height, n):\n",
    "    print('We have {} unique values'.format(df[column].nunique()))\n",
    "    cnt_srs = df[column].value_counts(normalize = True)[:n]\n",
    "    trace = go.Bar(\n",
    "        x = cnt_srs.index,\n",
    "        y = cnt_srs.values,\n",
    "        marker = dict(\n",
    "            color = '#1E90FF',\n",
    "        ),\n",
    "    )\n",
    "\n",
    "    layout = go.Layout(\n",
    "        title = go.layout.Title(\n",
    "            text = title,\n",
    "            x = 0.5\n",
    "        ),\n",
    "        font = dict(size = 14),\n",
    "        width = width,\n",
    "        height = height,\n",
    "    )\n",
    "\n",
    "    data = [trace]\n",
    "    fig = go.Figure(data = data, layout = layout)\n",
    "    py.iplot(fig, filename = 'bar_plot')\n",
    "bar_plot(train_labels, 'title', 'Assessment Title', 800, 500, 10)"
   ]
  },
  {
   "cell_type": "markdown",
   "metadata": {},
   "source": [
    "1. * Let's explore the timestamp column"
   ]
  },
  {
   "cell_type": "code",
   "execution_count": null,
   "metadata": {},
   "outputs": [],
   "source": [
    "def get_time(df):\n",
    "    df['timestamp'] = pd.to_datetime(df['timestamp'])\n",
    "    df['date'] = df['timestamp'].dt.date\n",
    "    df['month'] = df['timestamp'].dt.month\n",
    "    df['hour'] = df['timestamp'].dt.hour\n",
    "    df['dayofweek'] = df['timestamp'].dt.dayofweek\n",
    "    return df\n",
    "    \n",
    "train_sample = get_time(train_sample)\n",
    "test = get_time(test)"
   ]
  },
  {
   "cell_type": "code",
   "execution_count": null,
   "metadata": {},
   "outputs": [],
   "source": [
    "output_notebook()\n",
    "def scatter_plot(cnt_srs, color):\n",
    "    trace = go.Scatter(\n",
    "        x = cnt_srs.index,\n",
    "        y = cnt_srs.values,\n",
    "        showlegend = False,\n",
    "        marker = dict(\n",
    "            color = color,\n",
    "        )\n",
    "    )\n",
    "    return trace\n",
    "\n",
    "\n",
    "def get_time_plots(df):\n",
    "    print('The dataset start on {} and ends on {}'.format(df['date'].min(), df['date'].max()))\n",
    "    cnt_srs = df['date'].value_counts().sort_index()\n",
    "    trace1 = scatter_plot(cnt_srs, 'red')\n",
    "    cnt_srs = df['month'].value_counts().sort_index()\n",
    "    trace2 = scatter_plot(cnt_srs, 'blue')\n",
    "    cnt_srs = df['hour'].value_counts().sort_index()\n",
    "    trace3 = scatter_plot(cnt_srs, 'green')\n",
    "    cnt_srs = df['dayofweek'].value_counts().sort_index()\n",
    "    trace4 = scatter_plot(cnt_srs, 'orange')\n",
    "    \n",
    "    subtitles = ['Date Frequency', 'Month Frequency', 'Hour Frequency', 'Day of Week Frequency']\n",
    "    \n",
    "    fig = subplots.make_subplots(rows = 4, cols = 1, vertical_spacing = 0.08, subplot_titles = subtitles)\n",
    "    fig.append_trace(trace1, 1, 1)\n",
    "    fig.append_trace(trace2, 2, 1)\n",
    "    fig.append_trace(trace3, 3, 1)\n",
    "    fig.append_trace(trace4, 4, 1)\n",
    "    fig['layout'].update(height = 1200, width = 1000, paper_bgcolor = 'rgb(233, 233, 233)')\n",
    "    py.iplot(fig, filename = 'time_plots')\n",
    "get_time_plots(train_sample)"
   ]
  },
  {
   "cell_type": "markdown",
   "metadata": {},
   "source": [
    "* Date frequency increase with time\n",
    "* Hour frequency is greater between 13 and 0\n",
    "* We have a greater frequency in Thursday and Friday"
   ]
  },
  {
   "cell_type": "code",
   "execution_count": null,
   "metadata": {},
   "outputs": [],
   "source": [
    "get_time_plots(test)"
   ]
  },
  {
   "cell_type": "markdown",
   "metadata": {},
   "source": [
    "* Date frequency have down and upper peaks but stay in the same line.\n",
    "* Month frequency behave similar to the train set (More observarions on August and September)\n",
    "* Hour frequency behave similar to the train set\n",
    "* Wednesday, Thursday, Friday and Sunday have hight frequencies."
   ]
  },
  {
   "cell_type": "markdown",
   "metadata": {},
   "source": [
    "Let's check installation id distribution"
   ]
  },
  {
   "cell_type": "code",
   "execution_count": null,
   "metadata": {},
   "outputs": [],
   "source": [
    "bar_plot(train_labels, 'installation_id', 'Installation Id Distribution', 1000, 800, 100)"
   ]
  },
  {
   "cell_type": "markdown",
   "metadata": {},
   "source": [
    "* Left skewed\n",
    "* We have 3614 different installation ids (remeber it's a sample, all the train data have 17K)\n",
    "* Id 08987c08 have 0.88% of the observarions"
   ]
  },
  {
   "cell_type": "markdown",
   "metadata": {},
   "source": [
    "Let's check the event count distribution."
   ]
  },
  {
   "cell_type": "code",
   "execution_count": null,
   "metadata": {},
   "outputs": [],
   "source": [
    "bar_plot(train_sample, 'event_count', 'Event Count Distribution', 1000, 800, 100)"
   ]
  },
  {
   "cell_type": "markdown",
   "metadata": {},
   "source": [
    "* We have 2205 unique values\n",
    "* Left skewed\n",
    "* Most common value is 1 with 2.66% of the observarions"
   ]
  },
  {
   "cell_type": "code",
   "execution_count": null,
   "metadata": {},
   "outputs": [],
   "source": [
    "def plot_hist(df, column, title, log = True):\n",
    "    df = df[[column]]\n",
    "    if log == True:\n",
    "        df[column] = np.log1p(df[column])\n",
    "    plt.figure(figsize = (10,8))\n",
    "    sns.distplot(df[column])\n",
    "    plt.title('{}'.format(title))\n",
    "plot_hist(train_sample, 'game_time', 'Game Time Distribution', log = True)"
   ]
  },
  {
   "cell_type": "markdown",
   "metadata": {},
   "source": [
    "* Left skewd (log x + 1 to visualize better)"
   ]
  },
  {
   "cell_type": "code",
   "execution_count": null,
   "metadata": {},
   "outputs": [],
   "source": [
    "# title\n",
    "bar_plot(train_sample, 'title', 'Title Distribution', 1000, 800, 100)"
   ]
  },
  {
   "cell_type": "markdown",
   "metadata": {},
   "source": [
    "* The most common tittle is Chow Time followed by Sandcastle Builder (Activity)\n",
    "* Left skewd\n",
    "\n",
    "Let's check type column"
   ]
  },
  {
   "cell_type": "code",
   "execution_count": null,
   "metadata": {},
   "outputs": [],
   "source": [
    "bar_plot(train_sample, 'type', 'Type Distribution', 800, 500, 100)"
   ]
  },
  {
   "cell_type": "markdown",
   "metadata": {},
   "source": [
    "* Game is the most common type followed by Activity\n",
    "* Clip is only 1.6% of the observations\n",
    "\n",
    "Let's check out world"
   ]
  },
  {
   "cell_type": "code",
   "execution_count": null,
   "metadata": {},
   "outputs": [],
   "source": [
    "bar_plot(train_sample, 'world', 'World Distribution', 800, 500, 100)"
   ]
  },
  {
   "cell_type": "markdown",
   "metadata": {},
   "source": [
    "* MAGMAPEAK have 44.3% of the observarions\n",
    "* NONE have almost 0% observations"
   ]
  },
  {
   "cell_type": "markdown",
   "metadata": {},
   "source": [
    "# Model\n",
    "\n",
    "Let's try to build a baseline model. "
   ]
  },
  {
   "cell_type": "code",
   "execution_count": null,
   "metadata": {},
   "outputs": [],
   "source": [
    "# funtions to get agg stadistics and merge with test and train\n",
    "def get_object_columns(df, columns):\n",
    "    df = df.groupby(['installation_id', columns])['event_id'].count().reset_index()\n",
    "    df = df.pivot_table(index = 'installation_id', columns = [columns], values = 'event_id')\n",
    "    df.columns = list(df.columns)\n",
    "    df.fillna(0, inplace = True)\n",
    "    return df\n",
    "\n",
    "def get_numeric_columns(df, column):\n",
    "    df = df.groupby('installation_id').agg({f'{column}': ['mean', 'sum', 'std']})\n",
    "    df.fillna(0, inplace = True)\n",
    "    df.columns = [f'{column}_mean', f'{column}_sum', f'{column}_std']\n",
    "    return df\n",
    "\n",
    "def get_numeric_columns_2(df, agg_column, column):\n",
    "    df = df.groupby(['installation_id', agg_column]).agg({f'{column}': ['mean', 'sum', 'std']}).reset_index()\n",
    "    df = df.pivot_table(index = 'installation_id', columns = [agg_column], values = [col for col in df.columns if col not in ['installation_id', 'type']])\n",
    "    df.fillna(0, inplace = True)\n",
    "    df.columns = list(df.columns)\n",
    "    return df\n",
    "\n",
    "numerical_columns = ['game_time']\n",
    "categorical_columns = ['type', 'world']\n",
    "\n",
    "reduce_train = pd.DataFrame({'installation_id': train['installation_id'].unique()})\n",
    "reduce_train.set_index('installation_id', inplace = True)\n",
    "reduce_test = pd.DataFrame({'installation_id': test['installation_id'].unique()})\n",
    "reduce_test.set_index('installation_id', inplace = True)\n",
    "\n",
    "train = get_time(train)\n",
    "\n",
    "for i in numerical_columns:\n",
    "    reduce_train = reduce_train.merge(get_numeric_columns(train, i), left_index = True, right_index = True)\n",
    "    reduce_test = reduce_test.merge(get_numeric_columns(test, i), left_index = True, right_index = True)\n",
    "    \n",
    "for i in categorical_columns:\n",
    "    reduce_train = reduce_train.merge(get_object_columns(train, i), left_index = True, right_index = True)\n",
    "    reduce_test = reduce_test.merge(get_object_columns(test, i), left_index = True, right_index = True)\n",
    "    \n",
    "for i in categorical_columns:\n",
    "    for j in numerical_columns:\n",
    "        reduce_train = reduce_train.merge(get_numeric_columns_2(train, i, j), left_index = True, right_index = True)\n",
    "        reduce_test = reduce_test.merge(get_numeric_columns_2(test, i, j), left_index = True, right_index = True)\n",
    "    \n",
    "    \n",
    "reduce_train.reset_index(inplace = True)\n",
    "reduce_test.reset_index(inplace = True)\n",
    "    \n",
    "print('Our training set have {} rows and {} columns'.format(reduce_train.shape[0], reduce_train.shape[1]))\n",
    "    \n",
    "# get the mode of the title\n",
    "labels_map = dict(train_labels.groupby('title')['accuracy_group'].agg(lambda x:x.value_counts().index[0]))\n",
    "ans = {'Bird Measurer (Assessment)':1,\n",
    "       'Cart Balancer (Assessment)': 3,\n",
    "       'Cauldron Filler (Assessment)':3,\n",
    "       'Chest Sorter (Assessment)': 0,\n",
    "       'Mushroom Sorter (Assessment)':3\n",
    "      }\n",
    "# merge target\n",
    "labels = train_labels[['installation_id', 'title', 'accuracy_group']]\n",
    "# replace title with the mode\n",
    "labels['title'] = labels['title'].map(ans)\n",
    "# get title from the test set\n",
    "reduce_test['title'] = test.groupby('installation_id').last()['title'].map(ans).reset_index(drop = True)\n",
    "# join train with labels\n",
    "reduce_train = labels.merge(reduce_train, on = 'installation_id', how = 'left')\n",
    "print('We have {} training rows'.format(reduce_train.shape[0]))"
   ]
  },
  {
   "cell_type": "code",
   "execution_count": null,
   "metadata": {},
   "outputs": [],
   "source": [
    "event_codes = pd.DataFrame(train.groupby('installation_id')['event_code'].value_counts())"
   ]
  },
  {
   "cell_type": "code",
   "execution_count": null,
   "metadata": {},
   "outputs": [],
   "source": [
    "event_codes = event_codes.unstack()\n",
    "event_codes.fillna(0,inplace=True)"
   ]
  },
  {
   "cell_type": "code",
   "execution_count": null,
   "metadata": {},
   "outputs": [],
   "source": [
    "event_codes=event_codes.reset_index()\n",
    "event_codes"
   ]
  },
  {
   "cell_type": "code",
   "execution_count": null,
   "metadata": {},
   "outputs": [],
   "source": [
    "reduce_train= pd.merge(reduce_train,event_codes,how='left', on='installation_id')"
   ]
  },
  {
   "cell_type": "markdown",
   "metadata": {},
   "source": [
    "Now, lets alaign our train and test set"
   ]
  },
  {
   "cell_type": "code",
   "execution_count": null,
   "metadata": {},
   "outputs": [],
   "source": [
    "categoricals = ['title']\n",
    "reduce_train = reduce_train[['installation_id', 'game_time_mean', 'game_time_sum', 'game_time_std', 'Activity', 'Assessment',                             \n",
    "                             'Clip', 'Game', 'CRYSTALCAVES', 'MAGMAPEAK', 'NONE', 'TREETOPCITY', ('game_time', 'mean', 'Activity'),\n",
    "                             ('game_time', 'mean', 'Assessment'), ('game_time', 'mean', 'Clip'), ('game_time', 'mean', 'Game'), \n",
    "                             ('game_time', 'std', 'Activity'), ('game_time', 'std', 'Assessment'), ('game_time', 'std', 'Clip'), \n",
    "                             ('game_time', 'std', 'Game'), ('game_time', 'sum', 'Activity'), ('game_time', 'sum', 'Assessment'), \n",
    "                             ('game_time', 'sum', 'Clip'), ('game_time', 'sum', 'Game'), ('game_time', 'mean', 'CRYSTALCAVES'), \n",
    "                             ('game_time', 'mean', 'MAGMAPEAK'), ('game_time', 'mean', 'NONE'), ('game_time', 'mean', 'TREETOPCITY'), \n",
    "                             ('game_time', 'std', 'CRYSTALCAVES'), ('game_time', 'std', 'MAGMAPEAK'), ('game_time', 'std', 'NONE'), \n",
    "                             ('game_time', 'std', 'TREETOPCITY'), ('game_time', 'sum', 'CRYSTALCAVES'), \n",
    "                             ('game_time', 'sum', 'MAGMAPEAK'), ('game_time', 'sum', 'NONE'), ('game_time', 'sum', 'TREETOPCITY'),\n",
    "                             ('event_code', 2000),\n",
    "                             ('event_code', 2010),\n",
    "                             ('event_code', 2020),\n",
    "                             ('event_code', 2025),\n",
    "                             ('event_code', 2030),\n",
    "                             ('event_code', 2035),\n",
    "                             ('event_code', 2040),\n",
    "                             ('event_code', 2050),\n",
    "                             ('event_code', 2060),\n",
    "                             ('event_code', 2070),\n",
    "                             ('event_code', 2075),\n",
    "                             ('event_code', 2080),\n",
    "                             ('event_code', 2081),\n",
    "                             ('event_code', 2083),\n",
    "                             ('event_code', 3010),\n",
    "                             ('event_code', 3020),\n",
    "                             ('event_code', 3021),\n",
    "                             ('event_code', 3110),\n",
    "                             ('event_code', 3120),\n",
    "                             ('event_code', 3121),\n",
    "                             ('event_code', 4010),\n",
    "                             ('event_code', 4020),\n",
    "                             ('event_code', 4021),\n",
    "                             ('event_code', 4022),\n",
    "                             ('event_code', 4025),\n",
    "                             ('event_code', 4030),\n",
    "                             ('event_code', 4031),\n",
    "                             ('event_code', 4035),\n",
    "                             ('event_code', 4040),\n",
    "                             ('event_code', 4045),\n",
    "                             ('event_code', 4050),\n",
    "                             ('event_code', 4070),\n",
    "                             ('event_code', 4080),\n",
    "                             ('event_code', 4090),\n",
    "                             ('event_code', 4095),\n",
    "                             ('event_code', 4100),\n",
    "                             ('event_code', 4110),\n",
    "                             ('event_code', 4220),\n",
    "                             ('event_code', 4230),\n",
    "                             ('event_code', 4235),\n",
    "                             ('event_code', 5000),\n",
    "                             ('event_code', 5010),\n",
    "                             'title', 'accuracy_group']]"
   ]
  },
  {
   "cell_type": "code",
   "execution_count": null,
   "metadata": {},
   "outputs": [],
   "source": [
    "event_codes_test = pd.DataFrame(test.groupby('installation_id')['event_code'].value_counts())\n",
    "event_codes_test = event_codes_test.unstack()\n",
    "event_codes_test.fillna(0,inplace=True)\n",
    "event_codes_test = event_codes_test.reset_index()\n",
    "reduce_test = pd.merge(reduce_test,event_codes_test,how='left', on='installation_id')"
   ]
  },
  {
   "cell_type": "code",
   "execution_count": null,
   "metadata": {},
   "outputs": [],
   "source": []
  },
  {
   "cell_type": "code",
   "execution_count": null,
   "metadata": {},
   "outputs": [],
   "source": [
    "def run_lgb(reduce_train, reduce_test):\n",
    "    kf = KFold(n_splits=10)\n",
    "    features = [i for i in reduce_train.columns if i not in ['accuracy_group', 'installation_id']]\n",
    "    target = 'accuracy_group'\n",
    "    oof_pred = np.zeros((len(reduce_train), 4))\n",
    "    y_pred = np.zeros((len(reduce_test), 4))\n",
    "    for fold, (tr_ind, val_ind) in enumerate(kf.split(reduce_train)):\n",
    "        print('Fold {}'.format(fold + 1))\n",
    "        x_train, x_val = reduce_train[features].iloc[tr_ind], reduce_train[features].iloc[val_ind]\n",
    "        y_train, y_val = reduce_train[target][tr_ind], reduce_train[target][val_ind]\n",
    "        train_set = lgb.Dataset(x_train, y_train, categorical_feature=categoricals)\n",
    "        val_set = lgb.Dataset(x_val, y_val, categorical_feature=categoricals)\n",
    "\n",
    "        params = {\n",
    "            'learning_rate': 0.01,\n",
    "            'metric': 'multiclass',\n",
    "            'objective': 'multiclass',\n",
    "            'num_classes': 4,\n",
    "            'feature_fraction': 0.75,\n",
    "            'subsample': 0.75,\n",
    "            'random_state': 99\n",
    "        }\n",
    "\n",
    "        model = lgb.train(params, train_set, num_boost_round = 100000, early_stopping_rounds = 100, \n",
    "                          valid_sets=[train_set, val_set], verbose_eval = 100)\n",
    "        oof_pred[val_ind] = model.predict(x_val)\n",
    "        y_pred += model.predict(reduce_test[features]) / 10\n",
    "    return y_pred\n",
    "y_pred = run_lgb(reduce_train, reduce_test)"
   ]
  },
  {
   "cell_type": "code",
   "execution_count": null,
   "metadata": {},
   "outputs": [],
   "source": [
    "reduce_test = reduce_test.reset_index()\n",
    "reduce_test = reduce_test[['installation_id']]\n",
    "reduce_test['accuracy_group'] = y_pred.argmax(axis = 1)\n",
    "sample_submission.drop('accuracy_group', inplace = True, axis = 1)\n",
    "sample_submission = sample_submission.merge(reduce_test, on = 'installation_id')\n",
    "sample_submission.to_csv('submission.csv', index = False)"
   ]
  },
  {
   "cell_type": "code",
   "execution_count": null,
   "metadata": {},
   "outputs": [],
   "source": [
    "sample_submission['accuracy_group'].value_counts(normalize = True)"
   ]
  }
 ],
 "metadata": {
  "kernelspec": {
   "display_name": "Python 3",
   "language": "python",
   "name": "python3"
  },
  "language_info": {
   "codemirror_mode": {
    "name": "ipython",
    "version": 3
   },
   "file_extension": ".py",
   "mimetype": "text/x-python",
   "name": "python",
   "nbconvert_exporter": "python",
   "pygments_lexer": "ipython3",
   "version": "3.7.4"
  }
 },
 "nbformat": 4,
 "nbformat_minor": 1
}
