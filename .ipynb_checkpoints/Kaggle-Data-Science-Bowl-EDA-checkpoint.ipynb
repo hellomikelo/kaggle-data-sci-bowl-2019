{
 "cells": [
  {
   "cell_type": "markdown",
   "metadata": {},
   "source": [
    "Notebook for exploratory data analysis of the 2019 [Data Science Bowl](https://www.kaggle.com/c/data-science-bowl-2019/overview).\n",
    "\n",
    "Author: Mike Lo  \n",
    "Date modified: 10/30/2019\n"
   ]
  },
  {
   "cell_type": "code",
   "execution_count": 1,
   "metadata": {},
   "outputs": [
    {
     "name": "stdout",
     "output_type": "stream",
     "text": [
      "../data/sample_submission.csv\n",
      "../data/specs.csv\n",
      "../data/test.csv\n",
      "../data/train.csv\n",
      "../data/train_labels.csv\n"
     ]
    }
   ],
   "source": [
    "# This Python 3 environment comes with many helpful analytics libraries installed\n",
    "# It is defined by the kaggle/python docker image: https://github.com/kaggle/docker-python\n",
    "# For example, here's several helpful packages to load in \n",
    "\n",
    "import numpy as np # linear algebra\n",
    "import pandas as pd # data processing, CSV file I/O (e.g. pd.read_csv)\n",
    "\n",
    "# Input data files are available in the \"../input/\" directory.\n",
    "# For example, running this (by clicking run or pressing Shift+Enter) will list all files under the input directory\n",
    "\n",
    "# Any results you write to the current directory are saved as output.\n",
    "import os\n",
    "import seaborn as sns\n",
    "import pandas as pd\n",
    "import matplotlib.pyplot as plt\n",
    "import matplotlib.patches as patches\n",
    "# from plotly import tools, subplots\n",
    "# import plotly.offline as py\n",
    "# py.init_notebook_mode(connected = True)\n",
    "# import plotly.graph_objs as go\n",
    "# import plotly.express as px\n",
    "# pd.set_option('max_columns', 1000)\n",
    "# from bokeh.models import Panel, Tabs\n",
    "# from bokeh.io import output_notebook, show\n",
    "# from bokeh.plotting import figure\n",
    "# import lightgbm as lgb\n",
    "# import plotly.figure_factory as ff\n",
    "# import gc\n",
    "from sklearn.model_selection import KFold\n",
    "from sklearn.preprocessing import LabelEncoder\n",
    "\n",
    "for dirname, _, filenames in os.walk('../data'):\n",
    "    for filename in filenames:\n",
    "        print(os.path.join(dirname, filename))"
   ]
  },
  {
   "cell_type": "markdown",
   "metadata": {},
   "source": [
    "# Information on the dataset\n",
    "\n",
    "## Overview\n",
    "In this dataset, you are provided with game analytics for the PBS KIDS Measure Up! app. In this app, children navigate a map and complete various levels, which may be activities, video clips, games, or assessments. Each assessment is designed to test a child's comprehension of a certain set of measurement-related skills. There are five assessments: Bird Measurer, Cart Balancer, Cauldron Filler, Chest Sorter, and Mushroom Sorter.\n",
    "\n",
    "The intent of the competition is to use the gameplay data to forecast how many attempts a child will take to pass a given assessment (an incorrect answer is counted as an attempt). Each application install is represented by an `installation_id`. This will typically correspond to one child, but you should expect noise from issues such as shared devices. In the training set, you are provided the full history of gameplay data. In the test set, we have truncated the history after the start event of a single assessment, chosen randomly, for which you must predict the number of attempts. Note that the training set contains many `installation_ids` which never took assessments, whereas every `installation_id` in the test set made an attempt on at least one assessment.\n",
    "\n",
    "## Datasets\n",
    "__train.csv & test.csv__\n",
    "\n",
    "These are the main data files which contain the gameplay events.  \n",
    "`event_id` - Randomly generated unique identifier for the event type. Maps to event_id column in specs table.  \n",
    "`game_session` - Randomly generated unique identifier grouping events within a single game or video play session.  \n",
    "`timestamp` - Client-generated datetime  \n",
    "`event_data` - Semi-structured JSON formatted string containing the events parameters. Default fields are: event_count, event_code, and game_time; otherwise fields are determined by the event type.  \n",
    "`installation_id` - Randomly generated unique identifier grouping game sessions within a single installed application instance.  \n",
    "`event_count` - Incremental counter of events within a game session (offset at 1). _Extracted from event_data_.  \n",
    "`event_code` - Identifier of the event 'class'. Unique per game, but may be duplicated across games. E.g. event code '2000' always identifies the 'Start Game' event for all games. _Extracted from event_data_.  \n",
    "`game_time` - Time in milliseconds since the start of the game session. _Extracted from event_data_.  \n",
    "`title` - Title of the game or video.  \n",
    "`type` - Media type of the game or video. Possible values are: __Game__, __Assessment__, __Activity__, __Clip__.  \n",
    "`world` - The section of the application the game or video belongs to. Helpful to identify the educational curriculum goals of the media. Possible values are: __NONE__ (at the app's start screen), __TREETOPCITY__ (Length/Height), __MAGMAPEAK__ (Capacity/Displacement), __CRYSTALCAVES__ (Weight).  \n",
    "\n",
    "__specs.csv__\n",
    "\n",
    "This file gives the specification of the various event types.  \n",
    "`event_id` - Global unique identifier for the event type. Joins to event_id column in events table.  \n",
    "`info` - Description of the event.  \n",
    "`args` - JSON formatted string of event arguments. Each argument contains:  \n",
    "`name` - Argument name.  \n",
    "`type` - Type of the argument (string, int, number, object, array).  \n",
    "`info` - Description of the argument.  \n",
    "\n",
    "__train_labels.csv__\n",
    "\n",
    "The outcomes in this competition are grouped into 4 groups (labeled accuracy_group in the data):\n",
    "3) the assessment was solved on the first attempt  \n",
    "2) the assessment was solved on the second attempt  \n",
    "1) the assessment was solved after 3 or more attempts  \n",
    "0) the assessment was never solved  "
   ]
  },
  {
   "cell_type": "markdown",
   "metadata": {},
   "source": [
    "Load and get an overall sense of the data."
   ]
  },
  {
   "cell_type": "code",
   "execution_count": 2,
   "metadata": {},
   "outputs": [
    {
     "name": "stdout",
     "output_type": "stream",
     "text": [
      "CPU times: user 1min 41s, sys: 6.97 s, total: 1min 48s\n",
      "Wall time: 1min 52s\n"
     ]
    }
   ],
   "source": [
    "%time df = pd.read_csv('../data/train.csv') # takes a while to load \n",
    "df1 = df.sample(100000)\n",
    "labels = pd.read_csv('../data/train_labels.csv')"
   ]
  },
  {
   "cell_type": "code",
   "execution_count": 3,
   "metadata": {},
   "outputs": [
    {
     "data": {
      "text/html": [
       "<div>\n",
       "<style scoped>\n",
       "    .dataframe tbody tr th:only-of-type {\n",
       "        vertical-align: middle;\n",
       "    }\n",
       "\n",
       "    .dataframe tbody tr th {\n",
       "        vertical-align: top;\n",
       "    }\n",
       "\n",
       "    .dataframe thead th {\n",
       "        text-align: right;\n",
       "    }\n",
       "</style>\n",
       "<table border=\"1\" class=\"dataframe\">\n",
       "  <thead>\n",
       "    <tr style=\"text-align: right;\">\n",
       "      <th></th>\n",
       "      <th>event_id</th>\n",
       "      <th>game_session</th>\n",
       "      <th>timestamp</th>\n",
       "      <th>event_data</th>\n",
       "      <th>installation_id</th>\n",
       "      <th>event_count</th>\n",
       "      <th>event_code</th>\n",
       "      <th>game_time</th>\n",
       "      <th>title</th>\n",
       "      <th>type</th>\n",
       "      <th>world</th>\n",
       "    </tr>\n",
       "  </thead>\n",
       "  <tbody>\n",
       "    <tr>\n",
       "      <th>9101923</th>\n",
       "      <td>3babcb9b</td>\n",
       "      <td>7f93781d3694d947</td>\n",
       "      <td>2019-09-06 19:29:52.792000+00:00</td>\n",
       "      <td>{\"description\":\"How many paperclips long is th...</td>\n",
       "      <td>cce6a641</td>\n",
       "      <td>988</td>\n",
       "      <td>3110</td>\n",
       "      <td>440154</td>\n",
       "      <td>Crystals Rule</td>\n",
       "      <td>Game</td>\n",
       "      <td>TREETOPCITY</td>\n",
       "    </tr>\n",
       "    <tr>\n",
       "      <th>10192574</th>\n",
       "      <td>022b4259</td>\n",
       "      <td>6e68ceb96e5df88c</td>\n",
       "      <td>2019-08-17 14:40:47.697000+00:00</td>\n",
       "      <td>{\"buglength\":2,\"bug\":\"inchworm\",\"duration\":390...</td>\n",
       "      <td>e5379c20</td>\n",
       "      <td>68</td>\n",
       "      <td>4025</td>\n",
       "      <td>62745</td>\n",
       "      <td>Bug Measurer (Activity)</td>\n",
       "      <td>Activity</td>\n",
       "      <td>TREETOPCITY</td>\n",
       "    </tr>\n",
       "    <tr>\n",
       "      <th>406469</th>\n",
       "      <td>1996c610</td>\n",
       "      <td>e0b76d71fedd5b1d</td>\n",
       "      <td>2019-09-04 17:10:15.483000+00:00</td>\n",
       "      <td>{\"shell_size\":1,\"round\":1,\"event_count\":22,\"ga...</td>\n",
       "      <td>088e2f31</td>\n",
       "      <td>22</td>\n",
       "      <td>4031</td>\n",
       "      <td>72365</td>\n",
       "      <td>Dino Drink</td>\n",
       "      <td>Game</td>\n",
       "      <td>MAGMAPEAK</td>\n",
       "    </tr>\n",
       "    <tr>\n",
       "      <th>2004877</th>\n",
       "      <td>1325467d</td>\n",
       "      <td>8285fed84e4b65ff</td>\n",
       "      <td>2019-08-05 01:54:17.907000+00:00</td>\n",
       "      <td>{\"coordinates\":{\"x\":177,\"y\":218,\"stage_width\":...</td>\n",
       "      <td>2d7762bc</td>\n",
       "      <td>143</td>\n",
       "      <td>4070</td>\n",
       "      <td>50203</td>\n",
       "      <td>Sandcastle Builder (Activity)</td>\n",
       "      <td>Activity</td>\n",
       "      <td>MAGMAPEAK</td>\n",
       "    </tr>\n",
       "    <tr>\n",
       "      <th>3463334</th>\n",
       "      <td>1bb5fbdb</td>\n",
       "      <td>85b82de25f7a311b</td>\n",
       "      <td>2019-09-15 19:16:35.098000+00:00</td>\n",
       "      <td>{\"description\":\"Try making a long wall.\",\"iden...</td>\n",
       "      <td>4cf83001</td>\n",
       "      <td>63</td>\n",
       "      <td>3110</td>\n",
       "      <td>44668</td>\n",
       "      <td>Sandcastle Builder (Activity)</td>\n",
       "      <td>Activity</td>\n",
       "      <td>MAGMAPEAK</td>\n",
       "    </tr>\n",
       "  </tbody>\n",
       "</table>\n",
       "</div>"
      ],
      "text/plain": [
       "          event_id      game_session                        timestamp  \\\n",
       "9101923   3babcb9b  7f93781d3694d947 2019-09-06 19:29:52.792000+00:00   \n",
       "10192574  022b4259  6e68ceb96e5df88c 2019-08-17 14:40:47.697000+00:00   \n",
       "406469    1996c610  e0b76d71fedd5b1d 2019-09-04 17:10:15.483000+00:00   \n",
       "2004877   1325467d  8285fed84e4b65ff 2019-08-05 01:54:17.907000+00:00   \n",
       "3463334   1bb5fbdb  85b82de25f7a311b 2019-09-15 19:16:35.098000+00:00   \n",
       "\n",
       "                                                 event_data installation_id  \\\n",
       "9101923   {\"description\":\"How many paperclips long is th...        cce6a641   \n",
       "10192574  {\"buglength\":2,\"bug\":\"inchworm\",\"duration\":390...        e5379c20   \n",
       "406469    {\"shell_size\":1,\"round\":1,\"event_count\":22,\"ga...        088e2f31   \n",
       "2004877   {\"coordinates\":{\"x\":177,\"y\":218,\"stage_width\":...        2d7762bc   \n",
       "3463334   {\"description\":\"Try making a long wall.\",\"iden...        4cf83001   \n",
       "\n",
       "          event_count  event_code  game_time                          title  \\\n",
       "9101923           988        3110     440154                  Crystals Rule   \n",
       "10192574           68        4025      62745        Bug Measurer (Activity)   \n",
       "406469             22        4031      72365                     Dino Drink   \n",
       "2004877           143        4070      50203  Sandcastle Builder (Activity)   \n",
       "3463334            63        3110      44668  Sandcastle Builder (Activity)   \n",
       "\n",
       "              type        world  \n",
       "9101923       Game  TREETOPCITY  \n",
       "10192574  Activity  TREETOPCITY  \n",
       "406469        Game    MAGMAPEAK  \n",
       "2004877   Activity    MAGMAPEAK  \n",
       "3463334   Activity    MAGMAPEAK  "
      ]
     },
     "execution_count": 3,
     "metadata": {},
     "output_type": "execute_result"
    }
   ],
   "source": [
    "df1['timestamp'] = pd.to_datetime(df1['timestamp'])\n",
    "df1.head()"
   ]
  },
  {
   "cell_type": "code",
   "execution_count": 4,
   "metadata": {},
   "outputs": [
    {
     "name": "stdout",
     "output_type": "stream",
     "text": [
      "<class 'pandas.core.frame.DataFrame'>\n",
      "Int64Index: 100000 entries, 9101923 to 4432307\n",
      "Data columns (total 11 columns):\n",
      "event_id           100000 non-null object\n",
      "game_session       100000 non-null object\n",
      "timestamp          100000 non-null datetime64[ns, UTC]\n",
      "event_data         100000 non-null object\n",
      "installation_id    100000 non-null object\n",
      "event_count        100000 non-null int64\n",
      "event_code         100000 non-null int64\n",
      "game_time          100000 non-null int64\n",
      "title              100000 non-null object\n",
      "type               100000 non-null object\n",
      "world              100000 non-null object\n",
      "dtypes: datetime64[ns, UTC](1), int64(3), object(7)\n",
      "memory usage: 9.2+ MB\n"
     ]
    }
   ],
   "source": [
    "df1.info()"
   ]
  },
  {
   "cell_type": "markdown",
   "metadata": {},
   "source": [
    "# EDA \n",
    "Start by checking the properties of different features."
   ]
  },
  {
   "cell_type": "markdown",
   "metadata": {},
   "source": [
    "Check the different types of games or activities that are played"
   ]
  },
  {
   "cell_type": "code",
   "execution_count": 5,
   "metadata": {},
   "outputs": [
    {
     "data": {
      "image/png": "[encoded data removed]",
      "text/plain": [
       "<Figure size 1296x432 with 1 Axes>"
      ]
     },
     "metadata": {
      "needs_background": "light"
     },
     "output_type": "display_data"
    }
   ],
   "source": [
    "_, ax = plt.subplots(figsize=(18,6))\n",
    "df1['title'].value_counts().plot.bar();"
   ]
  },
  {
   "cell_type": "code",
   "execution_count": 6,
   "metadata": {
    "scrolled": true
   },
   "outputs": [
    {
     "data": {
      "image/png": "[encoded data removed]",
      "text/plain": [
       "<Figure size 432x288 with 1 Axes>"
      ]
     },
     "metadata": {
      "needs_background": "light"
     },
     "output_type": "display_data"
    }
   ],
   "source": [
    "# distribution of activity\n",
    "df1['type'].value_counts().plot.bar();"
   ]
  },
  {
   "cell_type": "code",
   "execution_count": 7,
   "metadata": {},
   "outputs": [
    {
     "data": {
      "image/png": "[encoded data removed]",
      "text/plain": [
       "<Figure size 432x288 with 1 Axes>"
      ]
     },
     "metadata": {
      "needs_background": "light"
     },
     "output_type": "display_data"
    }
   ],
   "source": [
    "# distribution of worlds\n",
    "df1['world'].value_counts().plot.bar();"
   ]
  },
  {
   "cell_type": "code",
   "execution_count": 8,
   "metadata": {
    "scrolled": true
   },
   "outputs": [
    {
     "name": "stdout",
     "output_type": "stream",
     "text": [
      "mean game time: 3.42 minutes\n",
      "median game time: 1.27 minutes\n"
     ]
    },
    {
     "data": {
      "image/png": "[encoded data removed]",
      "text/plain": [
       "<Figure size 720x216 with 1 Axes>"
      ]
     },
     "metadata": {
      "needs_background": "light"
     },
     "output_type": "display_data"
    }
   ],
   "source": [
    "# time played\n",
    "print('mean game time: {0:.2f} minutes'.format(df1[df1['game_time'] > 0]['game_time'].mean()/1e3/60))\n",
    "print('median game time: {0:.2f} minutes'.format(df1[df1['game_time'] > 0]['game_time'].median()/1e3/60))\n",
    "_, ax = plt.subplots(figsize=(10,3))\n",
    "sns.distplot(df1[df1['game_time'] > 10]['game_time']/1e3/60);"
   ]
  },
  {
   "cell_type": "code",
   "execution_count": 9,
   "metadata": {},
   "outputs": [
    {
     "data": {
      "text/plain": [
       "[Timestamp('2019-07-23 15:32:29.440000+0000', tz='UTC'),\n",
       " Timestamp('2019-10-22 17:41:10.523000+0000', tz='UTC')]"
      ]
     },
     "execution_count": 9,
     "metadata": {},
     "output_type": "execute_result"
    }
   ],
   "source": [
    "# Time range of data\n",
    "[min(df1['timestamp']), max(df1['timestamp'])]"
   ]
  },
  {
   "cell_type": "code",
   "execution_count": 10,
   "metadata": {},
   "outputs": [
    {
     "data": {
      "text/plain": [
       "event_id                                                    022b4259\n",
       "game_session                                        6e68ceb96e5df88c\n",
       "timestamp                           2019-08-17 14:40:47.697000+00:00\n",
       "event_data         {\"buglength\":2,\"bug\":\"inchworm\",\"duration\":390...\n",
       "installation_id                                             e5379c20\n",
       "event_count                                                       68\n",
       "event_code                                                      4025\n",
       "game_time                                                      62745\n",
       "title                                        Bug Measurer (Activity)\n",
       "type                                                        Activity\n",
       "world                                                    TREETOPCITY\n",
       "Name: 10192574, dtype: object"
      ]
     },
     "execution_count": 10,
     "metadata": {},
     "output_type": "execute_result"
    }
   ],
   "source": [
    "# check what event_data contains\n",
    "df1.iloc[1]"
   ]
  },
  {
   "cell_type": "code",
   "execution_count": 11,
   "metadata": {
    "scrolled": false
   },
   "outputs": [
    {
     "data": {
      "text/plain": [
       "'{\"buglength\":2,\"bug\":\"inchworm\",\"duration\":3902,\"coordinates\":{\"x\":130,\"y\":650,\"stage_width\":1015,\"stage_height\":762},\"event_count\":68,\"game_time\":62745,\"event_code\":4025}'"
      ]
     },
     "execution_count": 11,
     "metadata": {},
     "output_type": "execute_result"
    }
   ],
   "source": [
    "df1.iloc[1]['event_data']"
   ]
  },
  {
   "cell_type": "code",
   "execution_count": 15,
   "metadata": {},
   "outputs": [
    {
     "data": {
      "text/html": [
       "<div>\n",
       "<style scoped>\n",
       "    .dataframe tbody tr th:only-of-type {\n",
       "        vertical-align: middle;\n",
       "    }\n",
       "\n",
       "    .dataframe tbody tr th {\n",
       "        vertical-align: top;\n",
       "    }\n",
       "\n",
       "    .dataframe thead th {\n",
       "        text-align: right;\n",
       "    }\n",
       "</style>\n",
       "<table border=\"1\" class=\"dataframe\">\n",
       "  <thead>\n",
       "    <tr style=\"text-align: right;\">\n",
       "      <th></th>\n",
       "      <th>event_id</th>\n",
       "      <th>game_session</th>\n",
       "      <th>timestamp</th>\n",
       "      <th>event_data</th>\n",
       "      <th>installation_id</th>\n",
       "      <th>event_count</th>\n",
       "      <th>event_code</th>\n",
       "      <th>game_time</th>\n",
       "      <th>title</th>\n",
       "      <th>type</th>\n",
       "      <th>world</th>\n",
       "    </tr>\n",
       "  </thead>\n",
       "  <tbody>\n",
       "    <tr>\n",
       "      <th>9432257</th>\n",
       "      <td>e9c52111</td>\n",
       "      <td>ed12f7dc428710aa</td>\n",
       "      <td>2019-10-11 19:00:37.190000+00:00</td>\n",
       "      <td>{\"jar\":[{\"color\":\"yellow\",\"amount\":1},{\"color\"...</td>\n",
       "      <td>d26cf68e</td>\n",
       "      <td>33</td>\n",
       "      <td>2030</td>\n",
       "      <td>52885</td>\n",
       "      <td>Bottle Filler (Activity)</td>\n",
       "      <td>Activity</td>\n",
       "      <td>MAGMAPEAK</td>\n",
       "    </tr>\n",
       "  </tbody>\n",
       "</table>\n",
       "</div>"
      ],
      "text/plain": [
       "         event_id      game_session                        timestamp  \\\n",
       "9432257  e9c52111  ed12f7dc428710aa 2019-10-11 19:00:37.190000+00:00   \n",
       "\n",
       "                                                event_data installation_id  \\\n",
       "9432257  {\"jar\":[{\"color\":\"yellow\",\"amount\":1},{\"color\"...        d26cf68e   \n",
       "\n",
       "         event_count  event_code  game_time                     title  \\\n",
       "9432257           33        2030      52885  Bottle Filler (Activity)   \n",
       "\n",
       "             type      world  \n",
       "9432257  Activity  MAGMAPEAK  "
      ]
     },
     "execution_count": 15,
     "metadata": {},
     "output_type": "execute_result"
    }
   ],
   "source": [
    "# df1[df1['installation_id'] == '0006a69f']\n",
    "df1[df1['game_session'] == 'ed12f7dc428710aa']\n",
    "# df1[df1['event_id'] == '5e812b27']\n",
    "# df1[df1['event_id'] == df1.iloc[100]['event_id']].iloc[1]['event_data']\n",
    "# df1[df1['event_id'] == 'df4940d3']\n",
    "# df1[(df1['title'] == 'Bird Measurer (Assessment)') & (df1['installation_id'] == '0006a69f')]"
   ]
  },
  {
   "cell_type": "code",
   "execution_count": 21,
   "metadata": {},
   "outputs": [
    {
     "data": {
      "text/html": [
       "<div>\n",
       "<style scoped>\n",
       "    .dataframe tbody tr th:only-of-type {\n",
       "        vertical-align: middle;\n",
       "    }\n",
       "\n",
       "    .dataframe tbody tr th {\n",
       "        vertical-align: top;\n",
       "    }\n",
       "\n",
       "    .dataframe thead th {\n",
       "        text-align: right;\n",
       "    }\n",
       "</style>\n",
       "<table border=\"1\" class=\"dataframe\">\n",
       "  <thead>\n",
       "    <tr style=\"text-align: right;\">\n",
       "      <th></th>\n",
       "      <th>event_id</th>\n",
       "      <th>game_session</th>\n",
       "      <th>timestamp</th>\n",
       "      <th>event_data</th>\n",
       "      <th>installation_id</th>\n",
       "      <th>event_count</th>\n",
       "      <th>event_code</th>\n",
       "      <th>game_time</th>\n",
       "      <th>title</th>\n",
       "      <th>type</th>\n",
       "      <th>world</th>\n",
       "    </tr>\n",
       "  </thead>\n",
       "  <tbody>\n",
       "    <tr>\n",
       "      <th>6080162</th>\n",
       "      <td>6bf9e3e1</td>\n",
       "      <td>77673f8890c45e7f</td>\n",
       "      <td>2019-08-22 22:18:10.148000+00:00</td>\n",
       "      <td>{\"source\":\"resources\",\"has_toy\":false,\"bowl_id...</td>\n",
       "      <td>869beaf8</td>\n",
       "      <td>28</td>\n",
       "      <td>4040</td>\n",
       "      <td>52016</td>\n",
       "      <td>Happy Camel</td>\n",
       "      <td>Game</td>\n",
       "      <td>CRYSTALCAVES</td>\n",
       "    </tr>\n",
       "    <tr>\n",
       "      <th>4115110</th>\n",
       "      <td>857f21c0</td>\n",
       "      <td>b1300bfe2a1a2787</td>\n",
       "      <td>2019-08-08 04:02:19.891000+00:00</td>\n",
       "      <td>{\"current_containers\":9,\"total_containers\":9,\"...</td>\n",
       "      <td>5a3eae08</td>\n",
       "      <td>533</td>\n",
       "      <td>4040</td>\n",
       "      <td>644091</td>\n",
       "      <td>Bubble Bath</td>\n",
       "      <td>Game</td>\n",
       "      <td>MAGMAPEAK</td>\n",
       "    </tr>\n",
       "    <tr>\n",
       "      <th>2000018</th>\n",
       "      <td>857f21c0</td>\n",
       "      <td>38bf270f061e2626</td>\n",
       "      <td>2019-09-20 15:41:12.137000+00:00</td>\n",
       "      <td>{\"current_containers\":2,\"total_containers\":3,\"...</td>\n",
       "      <td>2d6d1ecd</td>\n",
       "      <td>25</td>\n",
       "      <td>4040</td>\n",
       "      <td>44336</td>\n",
       "      <td>Bubble Bath</td>\n",
       "      <td>Game</td>\n",
       "      <td>MAGMAPEAK</td>\n",
       "    </tr>\n",
       "    <tr>\n",
       "      <th>2951193</th>\n",
       "      <td>6bf9e3e1</td>\n",
       "      <td>f8b4cf86fb61b633</td>\n",
       "      <td>2019-09-06 17:18:48.197000+00:00</td>\n",
       "      <td>{\"source\":\"resources\",\"has_toy\":false,\"bowl_id...</td>\n",
       "      <td>4164f67f</td>\n",
       "      <td>16</td>\n",
       "      <td>4040</td>\n",
       "      <td>20192</td>\n",
       "      <td>Happy Camel</td>\n",
       "      <td>Game</td>\n",
       "      <td>CRYSTALCAVES</td>\n",
       "    </tr>\n",
       "    <tr>\n",
       "      <th>10679260</th>\n",
       "      <td>857f21c0</td>\n",
       "      <td>aa8d5b92a477f2a4</td>\n",
       "      <td>2019-09-12 15:57:05.157000+00:00</td>\n",
       "      <td>{\"current_containers\":2,\"total_containers\":2,\"...</td>\n",
       "      <td>f1b19758</td>\n",
       "      <td>163</td>\n",
       "      <td>4040</td>\n",
       "      <td>256469</td>\n",
       "      <td>Bubble Bath</td>\n",
       "      <td>Game</td>\n",
       "      <td>MAGMAPEAK</td>\n",
       "    </tr>\n",
       "    <tr>\n",
       "      <th>798141</th>\n",
       "      <td>857f21c0</td>\n",
       "      <td>19156a5a04026159</td>\n",
       "      <td>2019-09-02 22:34:49.322000+00:00</td>\n",
       "      <td>{\"current_containers\":6,\"total_containers\":9,\"...</td>\n",
       "      <td>12064b31</td>\n",
       "      <td>277</td>\n",
       "      <td>4040</td>\n",
       "      <td>395250</td>\n",
       "      <td>Bubble Bath</td>\n",
       "      <td>Game</td>\n",
       "      <td>MAGMAPEAK</td>\n",
       "    </tr>\n",
       "    <tr>\n",
       "      <th>2700820</th>\n",
       "      <td>6bf9e3e1</td>\n",
       "      <td>79d370a4bf1a44ab</td>\n",
       "      <td>2019-09-09 16:19:08.809000+00:00</td>\n",
       "      <td>{\"source\":\"scale\",\"has_toy\":false,\"bowl_id\":1,...</td>\n",
       "      <td>3bb34a96</td>\n",
       "      <td>136</td>\n",
       "      <td>4040</td>\n",
       "      <td>185382</td>\n",
       "      <td>Happy Camel</td>\n",
       "      <td>Game</td>\n",
       "      <td>CRYSTALCAVES</td>\n",
       "    </tr>\n",
       "    <tr>\n",
       "      <th>1079257</th>\n",
       "      <td>6bf9e3e1</td>\n",
       "      <td>5f07ac1761468d30</td>\n",
       "      <td>2019-09-14 21:34:17.874000+00:00</td>\n",
       "      <td>{\"source\":\"resources\",\"has_toy\":true,\"bowl_id\"...</td>\n",
       "      <td>195829b2</td>\n",
       "      <td>36</td>\n",
       "      <td>4040</td>\n",
       "      <td>71237</td>\n",
       "      <td>Happy Camel</td>\n",
       "      <td>Game</td>\n",
       "      <td>CRYSTALCAVES</td>\n",
       "    </tr>\n",
       "    <tr>\n",
       "      <th>9485469</th>\n",
       "      <td>857f21c0</td>\n",
       "      <td>78e6a55bf3acf75c</td>\n",
       "      <td>2019-09-09 23:55:29.523000+00:00</td>\n",
       "      <td>{\"current_containers\":8,\"total_containers\":9,\"...</td>\n",
       "      <td>d3849f22</td>\n",
       "      <td>211</td>\n",
       "      <td>4040</td>\n",
       "      <td>301934</td>\n",
       "      <td>Bubble Bath</td>\n",
       "      <td>Game</td>\n",
       "      <td>MAGMAPEAK</td>\n",
       "    </tr>\n",
       "    <tr>\n",
       "      <th>591109</th>\n",
       "      <td>c7128948</td>\n",
       "      <td>7108ab4a9f986898</td>\n",
       "      <td>2019-09-11 21:38:50.256000+00:00</td>\n",
       "      <td>{\"height\":5,\"coordinates\":{\"x\":661,\"y\":512,\"st...</td>\n",
       "      <td>0d5a1a5e</td>\n",
       "      <td>21</td>\n",
       "      <td>4040</td>\n",
       "      <td>11341</td>\n",
       "      <td>Mushroom Sorter (Assessment)</td>\n",
       "      <td>Assessment</td>\n",
       "      <td>TREETOPCITY</td>\n",
       "    </tr>\n",
       "  </tbody>\n",
       "</table>\n",
       "</div>"
      ],
      "text/plain": [
       "          event_id      game_session                        timestamp  \\\n",
       "6080162   6bf9e3e1  77673f8890c45e7f 2019-08-22 22:18:10.148000+00:00   \n",
       "4115110   857f21c0  b1300bfe2a1a2787 2019-08-08 04:02:19.891000+00:00   \n",
       "2000018   857f21c0  38bf270f061e2626 2019-09-20 15:41:12.137000+00:00   \n",
       "2951193   6bf9e3e1  f8b4cf86fb61b633 2019-09-06 17:18:48.197000+00:00   \n",
       "10679260  857f21c0  aa8d5b92a477f2a4 2019-09-12 15:57:05.157000+00:00   \n",
       "798141    857f21c0  19156a5a04026159 2019-09-02 22:34:49.322000+00:00   \n",
       "2700820   6bf9e3e1  79d370a4bf1a44ab 2019-09-09 16:19:08.809000+00:00   \n",
       "1079257   6bf9e3e1  5f07ac1761468d30 2019-09-14 21:34:17.874000+00:00   \n",
       "9485469   857f21c0  78e6a55bf3acf75c 2019-09-09 23:55:29.523000+00:00   \n",
       "591109    c7128948  7108ab4a9f986898 2019-09-11 21:38:50.256000+00:00   \n",
       "\n",
       "                                                 event_data installation_id  \\\n",
       "6080162   {\"source\":\"resources\",\"has_toy\":false,\"bowl_id...        869beaf8   \n",
       "4115110   {\"current_containers\":9,\"total_containers\":9,\"...        5a3eae08   \n",
       "2000018   {\"current_containers\":2,\"total_containers\":3,\"...        2d6d1ecd   \n",
       "2951193   {\"source\":\"resources\",\"has_toy\":false,\"bowl_id...        4164f67f   \n",
       "10679260  {\"current_containers\":2,\"total_containers\":2,\"...        f1b19758   \n",
       "798141    {\"current_containers\":6,\"total_containers\":9,\"...        12064b31   \n",
       "2700820   {\"source\":\"scale\",\"has_toy\":false,\"bowl_id\":1,...        3bb34a96   \n",
       "1079257   {\"source\":\"resources\",\"has_toy\":true,\"bowl_id\"...        195829b2   \n",
       "9485469   {\"current_containers\":8,\"total_containers\":9,\"...        d3849f22   \n",
       "591109    {\"height\":5,\"coordinates\":{\"x\":661,\"y\":512,\"st...        0d5a1a5e   \n",
       "\n",
       "          event_count  event_code  game_time                         title  \\\n",
       "6080162            28        4040      52016                   Happy Camel   \n",
       "4115110           533        4040     644091                   Bubble Bath   \n",
       "2000018            25        4040      44336                   Bubble Bath   \n",
       "2951193            16        4040      20192                   Happy Camel   \n",
       "10679260          163        4040     256469                   Bubble Bath   \n",
       "798141            277        4040     395250                   Bubble Bath   \n",
       "2700820           136        4040     185382                   Happy Camel   \n",
       "1079257            36        4040      71237                   Happy Camel   \n",
       "9485469           211        4040     301934                   Bubble Bath   \n",
       "591109             21        4040      11341  Mushroom Sorter (Assessment)   \n",
       "\n",
       "                type         world  \n",
       "6080162         Game  CRYSTALCAVES  \n",
       "4115110         Game     MAGMAPEAK  \n",
       "2000018         Game     MAGMAPEAK  \n",
       "2951193         Game  CRYSTALCAVES  \n",
       "10679260        Game     MAGMAPEAK  \n",
       "798141          Game     MAGMAPEAK  \n",
       "2700820         Game  CRYSTALCAVES  \n",
       "1079257         Game  CRYSTALCAVES  \n",
       "9485469         Game     MAGMAPEAK  \n",
       "591109    Assessment   TREETOPCITY  "
      ]
     },
     "execution_count": 21,
     "metadata": {},
     "output_type": "execute_result"
    }
   ],
   "source": [
    "df1[df1['event_code'] == 4040][:10]"
   ]
  },
  {
   "cell_type": "code",
   "execution_count": 17,
   "metadata": {},
   "outputs": [
    {
     "data": {
      "text/plain": [
       "'{\"shell_size\":1,\"round\":1,\"event_count\":22,\"game_time\":72365,\"event_code\":4031}'"
      ]
     },
     "execution_count": 17,
     "metadata": {},
     "output_type": "execute_result"
    }
   ],
   "source": [
    "# df1[df1['event_id'] == df1.iloc[110]['event_id']]#.iloc[1]['event_data']\n",
    "df1[df1['type'] == 'Game'].iloc[1]['event_data']"
   ]
  },
  {
   "cell_type": "code",
   "execution_count": 18,
   "metadata": {},
   "outputs": [
    {
     "data": {
      "text/plain": [
       "'{\"description\":\"Whoops. This caterpillar is too short for that bird.\",\"identifier\":\"Dot_WhoopsTooShort\",\"media_type\":\"audio\",\"total_duration\":2880,\"event_count\":80,\"game_time\":106631,\"event_code\":3020}'"
      ]
     },
     "execution_count": 18,
     "metadata": {},
     "output_type": "execute_result"
    }
   ],
   "source": [
    "df1[df1['type'] == 'Assessment'].iloc[1]['event_data']"
   ]
  },
  {
   "cell_type": "code",
   "execution_count": 19,
   "metadata": {},
   "outputs": [
    {
     "data": {
      "text/plain": [
       "'{\"coordinates\":{\"x\":177,\"y\":218,\"stage_width\":1015,\"stage_height\":762},\"event_count\":143,\"game_time\":50203,\"event_code\":4070}'"
      ]
     },
     "execution_count": 19,
     "metadata": {},
     "output_type": "execute_result"
    }
   ],
   "source": [
    "df1[df1['type'] == 'Activity'].iloc[1]['event_data']\n"
   ]
  },
  {
   "cell_type": "code",
   "execution_count": 20,
   "metadata": {},
   "outputs": [
    {
     "data": {
      "text/plain": [
       "'{\"event_code\": 2000, \"event_count\": 1}'"
      ]
     },
     "execution_count": 20,
     "metadata": {},
     "output_type": "execute_result"
    }
   ],
   "source": [
    "df1[df1['type'] == 'Clip'].iloc[1]['event_data']"
   ]
  },
  {
   "cell_type": "markdown",
   "metadata": {},
   "source": [
    "# Check labels"
   ]
  },
  {
   "cell_type": "code",
   "execution_count": 22,
   "metadata": {},
   "outputs": [
    {
     "data": {
      "text/html": [
       "<div>\n",
       "<style scoped>\n",
       "    .dataframe tbody tr th:only-of-type {\n",
       "        vertical-align: middle;\n",
       "    }\n",
       "\n",
       "    .dataframe tbody tr th {\n",
       "        vertical-align: top;\n",
       "    }\n",
       "\n",
       "    .dataframe thead th {\n",
       "        text-align: right;\n",
       "    }\n",
       "</style>\n",
       "<table border=\"1\" class=\"dataframe\">\n",
       "  <thead>\n",
       "    <tr style=\"text-align: right;\">\n",
       "      <th></th>\n",
       "      <th>game_session</th>\n",
       "      <th>installation_id</th>\n",
       "      <th>title</th>\n",
       "      <th>num_correct</th>\n",
       "      <th>num_incorrect</th>\n",
       "      <th>accuracy</th>\n",
       "      <th>accuracy_group</th>\n",
       "    </tr>\n",
       "  </thead>\n",
       "  <tbody>\n",
       "    <tr>\n",
       "      <th>0</th>\n",
       "      <td>6bdf9623adc94d89</td>\n",
       "      <td>0006a69f</td>\n",
       "      <td>Mushroom Sorter (Assessment)</td>\n",
       "      <td>1</td>\n",
       "      <td>0</td>\n",
       "      <td>1.0</td>\n",
       "      <td>3</td>\n",
       "    </tr>\n",
       "    <tr>\n",
       "      <th>1</th>\n",
       "      <td>77b8ee947eb84b4e</td>\n",
       "      <td>0006a69f</td>\n",
       "      <td>Bird Measurer (Assessment)</td>\n",
       "      <td>0</td>\n",
       "      <td>11</td>\n",
       "      <td>0.0</td>\n",
       "      <td>0</td>\n",
       "    </tr>\n",
       "    <tr>\n",
       "      <th>2</th>\n",
       "      <td>901acc108f55a5a1</td>\n",
       "      <td>0006a69f</td>\n",
       "      <td>Mushroom Sorter (Assessment)</td>\n",
       "      <td>1</td>\n",
       "      <td>0</td>\n",
       "      <td>1.0</td>\n",
       "      <td>3</td>\n",
       "    </tr>\n",
       "    <tr>\n",
       "      <th>3</th>\n",
       "      <td>9501794defd84e4d</td>\n",
       "      <td>0006a69f</td>\n",
       "      <td>Mushroom Sorter (Assessment)</td>\n",
       "      <td>1</td>\n",
       "      <td>1</td>\n",
       "      <td>0.5</td>\n",
       "      <td>2</td>\n",
       "    </tr>\n",
       "    <tr>\n",
       "      <th>4</th>\n",
       "      <td>a9ef3ecb3d1acc6a</td>\n",
       "      <td>0006a69f</td>\n",
       "      <td>Bird Measurer (Assessment)</td>\n",
       "      <td>1</td>\n",
       "      <td>0</td>\n",
       "      <td>1.0</td>\n",
       "      <td>3</td>\n",
       "    </tr>\n",
       "  </tbody>\n",
       "</table>\n",
       "</div>"
      ],
      "text/plain": [
       "       game_session installation_id                         title  \\\n",
       "0  6bdf9623adc94d89        0006a69f  Mushroom Sorter (Assessment)   \n",
       "1  77b8ee947eb84b4e        0006a69f    Bird Measurer (Assessment)   \n",
       "2  901acc108f55a5a1        0006a69f  Mushroom Sorter (Assessment)   \n",
       "3  9501794defd84e4d        0006a69f  Mushroom Sorter (Assessment)   \n",
       "4  a9ef3ecb3d1acc6a        0006a69f    Bird Measurer (Assessment)   \n",
       "\n",
       "   num_correct  num_incorrect  accuracy  accuracy_group  \n",
       "0            1              0       1.0               3  \n",
       "1            0             11       0.0               0  \n",
       "2            1              0       1.0               3  \n",
       "3            1              1       0.5               2  \n",
       "4            1              0       1.0               3  "
      ]
     },
     "execution_count": 22,
     "metadata": {},
     "output_type": "execute_result"
    }
   ],
   "source": [
    "labels.head()"
   ]
  },
  {
   "cell_type": "code",
   "execution_count": 13,
   "metadata": {},
   "outputs": [
    {
     "name": "stdout",
     "output_type": "stream",
     "text": [
      "<class 'pandas.core.frame.DataFrame'>\n",
      "RangeIndex: 17690 entries, 0 to 17689\n",
      "Data columns (total 7 columns):\n",
      "game_session       17690 non-null object\n",
      "installation_id    17690 non-null object\n",
      "title              17690 non-null object\n",
      "num_correct        17690 non-null int64\n",
      "num_incorrect      17690 non-null int64\n",
      "accuracy           17690 non-null float64\n",
      "accuracy_group     17690 non-null int64\n",
      "dtypes: float64(1), int64(3), object(3)\n",
      "memory usage: 967.5+ KB\n"
     ]
    }
   ],
   "source": [
    "labels.info()\n",
    "# 17690 entries"
   ]
  },
  {
   "cell_type": "code",
   "execution_count": 14,
   "metadata": {},
   "outputs": [
    {
     "data": {
      "text/plain": [
       "(3614,)"
      ]
     },
     "execution_count": 14,
     "metadata": {},
     "output_type": "execute_result"
    }
   ],
   "source": [
    "labels['installation_id'].unique().shape\n",
    "# data on 3614 unique devices"
   ]
  },
  {
   "cell_type": "code",
   "execution_count": 27,
   "metadata": {},
   "outputs": [
    {
     "data": {
      "text/html": [
       "<div>\n",
       "<style scoped>\n",
       "    .dataframe tbody tr th:only-of-type {\n",
       "        vertical-align: middle;\n",
       "    }\n",
       "\n",
       "    .dataframe tbody tr th {\n",
       "        vertical-align: top;\n",
       "    }\n",
       "\n",
       "    .dataframe thead th {\n",
       "        text-align: right;\n",
       "    }\n",
       "</style>\n",
       "<table border=\"1\" class=\"dataframe\">\n",
       "  <thead>\n",
       "    <tr style=\"text-align: right;\">\n",
       "      <th></th>\n",
       "      <th>game_session</th>\n",
       "      <th>installation_id</th>\n",
       "      <th>title</th>\n",
       "      <th>num_correct</th>\n",
       "      <th>num_incorrect</th>\n",
       "      <th>accuracy</th>\n",
       "      <th>accuracy_group</th>\n",
       "    </tr>\n",
       "  </thead>\n",
       "  <tbody>\n",
       "    <tr>\n",
       "      <th>2</th>\n",
       "      <td>901acc108f55a5a1</td>\n",
       "      <td>0006a69f</td>\n",
       "      <td>Mushroom Sorter (Assessment)</td>\n",
       "      <td>1</td>\n",
       "      <td>0</td>\n",
       "      <td>1.0</td>\n",
       "      <td>3</td>\n",
       "    </tr>\n",
       "  </tbody>\n",
       "</table>\n",
       "</div>"
      ],
      "text/plain": [
       "       game_session installation_id                         title  \\\n",
       "2  901acc108f55a5a1        0006a69f  Mushroom Sorter (Assessment)   \n",
       "\n",
       "   num_correct  num_incorrect  accuracy  accuracy_group  \n",
       "2            1              0       1.0               3  "
      ]
     },
     "execution_count": 27,
     "metadata": {},
     "output_type": "execute_result"
    }
   ],
   "source": [
    "labels[labels['game_session'] == labels['game_session'].iloc[2]]"
   ]
  },
  {
   "cell_type": "markdown",
   "metadata": {},
   "source": [
    "There are 17690 unique game sessions, played on 3614 unique devices. "
   ]
  },
  {
   "cell_type": "markdown",
   "metadata": {},
   "source": [
    "## Explanation of the features\n",
    "\n",
    "* `installation_id` is assigned to each device that downloaded the game. Each ID (i.e. device) can have multiple `game_session` rows (although the session ID is unique), played by the same or a different person.\n",
    "* Within each session (of the game `title`, which can be activities, assessment, video clips, or games), each action taken by the agent is labeled with a fully unique `event_id`. \n",
    "* `event_code` classifies the event taken. It's unique within each game, but may be duplicated across games. E.g. event code '2000' always identifies the 'Start Game' event for all games. \n",
    "* All actions are enumerated by `event_count` that ranges from 1 on up. `game_time` measures the amount of time since start of `game_session`.\n",
    "* Each `type` contains the media type can be further broken down into different categories.\n",
    "* Each `event_data` contains many different keys-value pairs that don't seem to correlate with the `type`. \n",
    "\n",
    "## Some initial ideas for how to go on\n",
    "\n",
    "* time series analysis on the `event_count` and `game_time`\n",
    "* need to further extract useful info from `event_data` (e.g. descriptions, coordinates, etc)\n",
    "* correlation analysis between outcome and `type`, `world`, `title`, and `event_code` \n",
    "* this is a classification problem (matching data from each `installation_id` to outcome)\n",
    "* max `event_count` could be a potential feature -- fewer number of tries before completion could be an indicator of good education material "
   ]
  },
  {
   "cell_type": "markdown",
   "metadata": {},
   "source": [
    "# Data preparation\n",
    "Do normalization, feature engineering, and impute missing values."
   ]
  },
  {
   "cell_type": "code",
   "execution_count": null,
   "metadata": {},
   "outputs": [],
   "source": [
    "cdf = "
   ]
  },
  {
   "cell_type": "markdown",
   "metadata": {},
   "source": [
    "# Modeling\n",
    "Set up a basic skeleton for modeling."
   ]
  },
  {
   "cell_type": "code",
   "execution_count": null,
   "metadata": {},
   "outputs": [],
   "source": []
  }
 ],
 "metadata": {
  "kernelspec": {
   "display_name": "Python [conda env:.conda-pandas] *",
   "language": "python",
   "name": "conda-env-.conda-pandas-py"
  },
  "language_info": {
   "codemirror_mode": {
    "name": "ipython",
    "version": 3
   },
   "file_extension": ".py",
   "mimetype": "text/x-python",
   "name": "python",
   "nbconvert_exporter": "python",
   "pygments_lexer": "ipython3",
   "version": "3.7.4"
  }
 },
 "nbformat": 4,
 "nbformat_minor": 2
}
